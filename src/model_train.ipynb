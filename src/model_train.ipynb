{
 "cells": [
  {
   "cell_type": "markdown",
   "metadata": {},
   "source": [
    "# Train text model"
   ]
  },
  {
   "cell_type": "code",
   "execution_count": 1,
   "metadata": {},
   "outputs": [],
   "source": [
    "import pandas as pd\n",
    "import numpy as np\n",
    "from collections import Counter"
   ]
  },
  {
   "cell_type": "code",
   "execution_count": 2,
   "metadata": {},
   "outputs": [
    {
     "name": "stderr",
     "output_type": "stream",
     "text": [
      "/var/folders/2s/c36gzps966l7g26p24rbth540000gn/T/ipykernel_943/4007862019.py:1: DtypeWarning: Columns (2,3,7,9,12,16,20,23,25,26,31,32,33,35,37,39,40,41,47,52,53,61,62,66,68) have mixed types. Specify dtype option on import or set low_memory=False.\n",
      "  cards = pd.read_csv('./AllPrintingsCSVFiles/cards.csv')\n"
     ]
    },
    {
     "data": {
      "text/plain": [
       "Index(['artist', 'artistIds', 'asciiName', 'attractionLights', 'availability',\n",
       "       'boosterTypes', 'borderColor', 'cardParts', 'colorIdentity',\n",
       "       'colorIndicator', 'colors', 'defense', 'duelDeck', 'edhrecRank',\n",
       "       'edhrecSaltiness', 'faceConvertedManaCost', 'faceFlavorName',\n",
       "       'faceManaValue', 'faceName', 'finishes', 'flavorName', 'flavorText',\n",
       "       'frameEffects', 'frameVersion', 'hand', 'hasAlternativeDeckLimit',\n",
       "       'hasContentWarning', 'hasFoil', 'hasNonFoil', 'isAlternative',\n",
       "       'isFullArt', 'isFunny', 'isOnlineOnly', 'isOversized', 'isPromo',\n",
       "       'isRebalanced', 'isReprint', 'isReserved', 'isStarter',\n",
       "       'isStorySpotlight', 'isTextless', 'isTimeshifted', 'keywords',\n",
       "       'language', 'layout', 'leadershipSkills', 'life', 'loyalty', 'manaCost',\n",
       "       'manaValue', 'name', 'number', 'originalPrintings',\n",
       "       'originalReleaseDate', 'originalText', 'originalType', 'otherFaceIds',\n",
       "       'power', 'printings', 'promoTypes', 'rarity', 'rebalancedPrintings',\n",
       "       'relatedCards', 'securityStamp', 'setCode', 'side', 'signature',\n",
       "       'sourceProducts', 'subsets', 'subtypes', 'supertypes', 'text',\n",
       "       'toughness', 'type', 'types', 'uuid', 'variations', 'watermark'],\n",
       "      dtype='object')"
      ]
     },
     "execution_count": 2,
     "metadata": {},
     "output_type": "execute_result"
    }
   ],
   "source": [
    "cards = pd.read_csv('./AllPrintingsCSVFiles/cards.csv')\n",
    "cards.columns"
   ]
  },
  {
   "cell_type": "code",
   "execution_count": 3,
   "metadata": {},
   "outputs": [],
   "source": [
    "cards = cards[['asciiName', 'availability',\n",
    "       'colorIdentity',\n",
    "       'colors', 'defense', 'flavorText',\n",
    "       'frameEffects', 'keywords',\n",
    "       'language', 'layout', 'life', 'loyalty', 'manaCost',\n",
    "       'manaValue', 'name', \n",
    "       'power', 'rarity', \n",
    "       'subtypes', 'supertypes', 'text','setCode',\n",
    "       'toughness', 'type', 'types', 'uuid', 'variations',]]"
   ]
  },
  {
   "cell_type": "markdown",
   "metadata": {},
   "source": []
  },
  {
   "cell_type": "code",
   "execution_count": null,
   "metadata": {},
   "outputs": [],
   "source": [
    "cards = cards[cards['language'] == 'English']\n",
    "cards = cards[cards['setCode'].isin(['7ED', '8ED', '9ED', '10E'])]\n",
    "cards = cards[~cards['type'].str.contains('Basic Land')]"
   ]
  },
  {
   "cell_type": "code",
   "execution_count": 8,
   "metadata": {},
   "outputs": [
    {
     "data": {
      "text/plain": [
       "Index(['asciiName', 'availability', 'colorIdentity', 'colors', 'defense',\n",
       "       'flavorText', 'frameEffects', 'keywords', 'language', 'layout', 'life',\n",
       "       'loyalty', 'manaCost', 'manaValue', 'name', 'power', 'rarity',\n",
       "       'subtypes', 'supertypes', 'text', 'setCode', 'toughness', 'type',\n",
       "       'types', 'uuid', 'variations'],\n",
       "      dtype='object')"
      ]
     },
     "execution_count": 8,
     "metadata": {},
     "output_type": "execute_result"
    }
   ],
   "source": [
    "cards.columns"
   ]
  },
  {
   "cell_type": "code",
   "execution_count": 10,
   "metadata": {},
   "outputs": [],
   "source": [
    "#cards_name_text = cards[['name', 'type', 'text']]\n",
    "cards_info = cards[['name', 'manaCost', 'type', 'text', 'power', 'toughness', 'flavorText']]"
   ]
  },
  {
   "cell_type": "code",
   "execution_count": 11,
   "metadata": {},
   "outputs": [
    {
     "data": {
      "text/html": [
       "<div>\n",
       "<style scoped>\n",
       "    .dataframe tbody tr th:only-of-type {\n",
       "        vertical-align: middle;\n",
       "    }\n",
       "\n",
       "    .dataframe tbody tr th {\n",
       "        vertical-align: top;\n",
       "    }\n",
       "\n",
       "    .dataframe thead th {\n",
       "        text-align: right;\n",
       "    }\n",
       "</style>\n",
       "<table border=\"1\" class=\"dataframe\">\n",
       "  <thead>\n",
       "    <tr style=\"text-align: right;\">\n",
       "      <th></th>\n",
       "      <th>name</th>\n",
       "      <th>manaCost</th>\n",
       "      <th>type</th>\n",
       "      <th>text</th>\n",
       "      <th>power</th>\n",
       "      <th>toughness</th>\n",
       "      <th>flavorText</th>\n",
       "    </tr>\n",
       "  </thead>\n",
       "  <tbody>\n",
       "    <tr>\n",
       "      <th>0</th>\n",
       "      <td>Ancestor's Chosen</td>\n",
       "      <td>{5}{W}{W}</td>\n",
       "      <td>Creature — Human Cleric</td>\n",
       "      <td>First strike (This creature deals combat damag...</td>\n",
       "      <td>4</td>\n",
       "      <td>4</td>\n",
       "      <td>NaN</td>\n",
       "    </tr>\n",
       "    <tr>\n",
       "      <th>1</th>\n",
       "      <td>Ancestor's Chosen</td>\n",
       "      <td>{5}{W}{W}</td>\n",
       "      <td>Creature — Human Cleric</td>\n",
       "      <td>First strike (This creature deals combat damag...</td>\n",
       "      <td>4</td>\n",
       "      <td>4</td>\n",
       "      <td>\"The will of all, by my hand done.\"</td>\n",
       "    </tr>\n",
       "    <tr>\n",
       "      <th>2</th>\n",
       "      <td>Angel of Mercy</td>\n",
       "      <td>{4}{W}</td>\n",
       "      <td>Creature — Angel</td>\n",
       "      <td>Flying\\nWhen Angel of Mercy enters, you gain 3...</td>\n",
       "      <td>3</td>\n",
       "      <td>3</td>\n",
       "      <td>Every tear shed is a drop of immortality.</td>\n",
       "    </tr>\n",
       "    <tr>\n",
       "      <th>3</th>\n",
       "      <td>Angel of Mercy</td>\n",
       "      <td>{4}{W}</td>\n",
       "      <td>Creature — Angel</td>\n",
       "      <td>Flying\\nWhen Angel of Mercy enters, you gain 3...</td>\n",
       "      <td>3</td>\n",
       "      <td>3</td>\n",
       "      <td>Every tear shed is a drop of immortality.</td>\n",
       "    </tr>\n",
       "    <tr>\n",
       "      <th>4</th>\n",
       "      <td>Angelic Blessing</td>\n",
       "      <td>{2}{W}</td>\n",
       "      <td>Sorcery</td>\n",
       "      <td>Target creature gets +3/+3 and gains flying un...</td>\n",
       "      <td>NaN</td>\n",
       "      <td>NaN</td>\n",
       "      <td>Only the warrior who can admit mortal weakness...</td>\n",
       "    </tr>\n",
       "    <tr>\n",
       "      <th>...</th>\n",
       "      <td>...</td>\n",
       "      <td>...</td>\n",
       "      <td>...</td>\n",
       "      <td>...</td>\n",
       "      <td>...</td>\n",
       "      <td>...</td>\n",
       "      <td>...</td>\n",
       "    </tr>\n",
       "    <tr>\n",
       "      <th>7110</th>\n",
       "      <td>Urza's Power Plant</td>\n",
       "      <td>NaN</td>\n",
       "      <td>Land — Urza's Power-Plant</td>\n",
       "      <td>{T}: Add {C}. If you control an Urza's Mine an...</td>\n",
       "      <td>NaN</td>\n",
       "      <td>NaN</td>\n",
       "      <td>NaN</td>\n",
       "    </tr>\n",
       "    <tr>\n",
       "      <th>7111</th>\n",
       "      <td>Urza's Tower</td>\n",
       "      <td>NaN</td>\n",
       "      <td>Land — Urza's Tower</td>\n",
       "      <td>{T}: Add {C}. If you control an Urza's Mine an...</td>\n",
       "      <td>NaN</td>\n",
       "      <td>NaN</td>\n",
       "      <td>NaN</td>\n",
       "    </tr>\n",
       "    <tr>\n",
       "      <th>7112</th>\n",
       "      <td>Urza's Tower</td>\n",
       "      <td>NaN</td>\n",
       "      <td>Land — Urza's Tower</td>\n",
       "      <td>{T}: Add {C}. If you control an Urza's Mine an...</td>\n",
       "      <td>NaN</td>\n",
       "      <td>NaN</td>\n",
       "      <td>NaN</td>\n",
       "    </tr>\n",
       "    <tr>\n",
       "      <th>7113</th>\n",
       "      <td>Yavimaya Coast</td>\n",
       "      <td>NaN</td>\n",
       "      <td>Land</td>\n",
       "      <td>{T}: Add {C}.\\n{T}: Add {G} or {U}. Yavimaya C...</td>\n",
       "      <td>NaN</td>\n",
       "      <td>NaN</td>\n",
       "      <td>NaN</td>\n",
       "    </tr>\n",
       "    <tr>\n",
       "      <th>7114</th>\n",
       "      <td>Yavimaya Coast</td>\n",
       "      <td>NaN</td>\n",
       "      <td>Land</td>\n",
       "      <td>{T}: Add {C}.\\n{T}: Add {G} or {U}. Yavimaya C...</td>\n",
       "      <td>NaN</td>\n",
       "      <td>NaN</td>\n",
       "      <td>NaN</td>\n",
       "    </tr>\n",
       "  </tbody>\n",
       "</table>\n",
       "<p>2486 rows × 7 columns</p>\n",
       "</div>"
      ],
      "text/plain": [
       "                    name   manaCost                       type  \\\n",
       "0      Ancestor's Chosen  {5}{W}{W}    Creature — Human Cleric   \n",
       "1      Ancestor's Chosen  {5}{W}{W}    Creature — Human Cleric   \n",
       "2         Angel of Mercy     {4}{W}           Creature — Angel   \n",
       "3         Angel of Mercy     {4}{W}           Creature — Angel   \n",
       "4       Angelic Blessing     {2}{W}                    Sorcery   \n",
       "...                  ...        ...                        ...   \n",
       "7110  Urza's Power Plant        NaN  Land — Urza's Power-Plant   \n",
       "7111        Urza's Tower        NaN        Land — Urza's Tower   \n",
       "7112        Urza's Tower        NaN        Land — Urza's Tower   \n",
       "7113      Yavimaya Coast        NaN                       Land   \n",
       "7114      Yavimaya Coast        NaN                       Land   \n",
       "\n",
       "                                                   text power toughness  \\\n",
       "0     First strike (This creature deals combat damag...     4         4   \n",
       "1     First strike (This creature deals combat damag...     4         4   \n",
       "2     Flying\\nWhen Angel of Mercy enters, you gain 3...     3         3   \n",
       "3     Flying\\nWhen Angel of Mercy enters, you gain 3...     3         3   \n",
       "4     Target creature gets +3/+3 and gains flying un...   NaN       NaN   \n",
       "...                                                 ...   ...       ...   \n",
       "7110  {T}: Add {C}. If you control an Urza's Mine an...   NaN       NaN   \n",
       "7111  {T}: Add {C}. If you control an Urza's Mine an...   NaN       NaN   \n",
       "7112  {T}: Add {C}. If you control an Urza's Mine an...   NaN       NaN   \n",
       "7113  {T}: Add {C}.\\n{T}: Add {G} or {U}. Yavimaya C...   NaN       NaN   \n",
       "7114  {T}: Add {C}.\\n{T}: Add {G} or {U}. Yavimaya C...   NaN       NaN   \n",
       "\n",
       "                                             flavorText  \n",
       "0                                                   NaN  \n",
       "1                   \"The will of all, by my hand done.\"  \n",
       "2             Every tear shed is a drop of immortality.  \n",
       "3             Every tear shed is a drop of immortality.  \n",
       "4     Only the warrior who can admit mortal weakness...  \n",
       "...                                                 ...  \n",
       "7110                                                NaN  \n",
       "7111                                                NaN  \n",
       "7112                                                NaN  \n",
       "7113                                                NaN  \n",
       "7114                                                NaN  \n",
       "\n",
       "[2486 rows x 7 columns]"
      ]
     },
     "execution_count": 11,
     "metadata": {},
     "output_type": "execute_result"
    }
   ],
   "source": [
    "cards_info"
   ]
  },
  {
   "cell_type": "code",
   "execution_count": 12,
   "metadata": {},
   "outputs": [],
   "source": [
    "# Treat Nans\n",
    "cards_info.loc[:, 'manaCost'] = cards_info['manaCost'].fillna('{Z}')\n",
    "cards_info.loc[:, 'text'] = cards_info['text'].fillna('---')\n",
    "cards_info.loc[:, 'power'] = cards_info['power'].fillna('-')\n",
    "cards_info.loc[:, 'toughness'] = cards_info['toughness'].fillna('-')\n",
    "cards_info.loc[:, 'flavorText'] = cards_info['flavorText'].fillna('---')"
   ]
  },
  {
   "cell_type": "code",
   "execution_count": 13,
   "metadata": {
    "vscode": {
     "languageId": "javascript"
    }
   },
   "outputs": [
    {
     "name": "stdout",
     "output_type": "stream",
     "text": [
      "370\n"
     ]
    }
   ],
   "source": [
    "text_lengths = cards_info['text'].astype(str).apply(len)\n",
    "length_counter = Counter(text_lengths)\n",
    "print(max(length_counter))"
   ]
  },
  {
   "cell_type": "markdown",
   "metadata": {},
   "source": [
    "# Text Generator"
   ]
  },
  {
   "cell_type": "code",
   "execution_count": null,
   "metadata": {},
   "outputs": [
    {
     "name": "stderr",
     "output_type": "stream",
     "text": [
      "/var/folders/2s/c36gzps966l7g26p24rbth540000gn/T/ipykernel_943/2003439509.py:10: SettingWithCopyWarning: \n",
      "A value is trying to be set on a copy of a slice from a DataFrame.\n",
      "Try using .loc[row_indexer,col_indexer] = value instead\n",
      "\n",
      "See the caveats in the documentation: https://pandas.pydata.org/pandas-docs/stable/user_guide/indexing.html#returning-a-view-versus-a-copy\n",
      "  cards_info['info'] = cards_info.apply(lambda row: f\"{row['name']} {separator_token} {row['manaCost']} {separator_token} {row['type']} {separator_token} {row['text']} {separator_token} {row['flavorText']} {separator_token} {row['power']}/{row['toughness']} {endoftext_token}\", axis=1)\n"
     ]
    },
    {
     "data": {
      "text/html": [
       "<div>\n",
       "<style scoped>\n",
       "    .dataframe tbody tr th:only-of-type {\n",
       "        vertical-align: middle;\n",
       "    }\n",
       "\n",
       "    .dataframe tbody tr th {\n",
       "        vertical-align: top;\n",
       "    }\n",
       "\n",
       "    .dataframe thead th {\n",
       "        text-align: right;\n",
       "    }\n",
       "</style>\n",
       "<table border=\"1\" class=\"dataframe\">\n",
       "  <thead>\n",
       "    <tr style=\"text-align: right;\">\n",
       "      <th></th>\n",
       "      <th>name</th>\n",
       "      <th>manaCost</th>\n",
       "      <th>type</th>\n",
       "      <th>text</th>\n",
       "      <th>power</th>\n",
       "      <th>toughness</th>\n",
       "      <th>flavorText</th>\n",
       "      <th>info</th>\n",
       "    </tr>\n",
       "  </thead>\n",
       "  <tbody>\n",
       "    <tr>\n",
       "      <th>0</th>\n",
       "      <td>Ancestor's Chosen</td>\n",
       "      <td>{5}{W}{W}</td>\n",
       "      <td>Creature — Human Cleric</td>\n",
       "      <td>First strike (This creature deals combat damag...</td>\n",
       "      <td>4</td>\n",
       "      <td>4</td>\n",
       "      <td>---</td>\n",
       "      <td>Ancestor's Chosen [SEP] {5}{W}{W} [SEP] Creatu...</td>\n",
       "    </tr>\n",
       "    <tr>\n",
       "      <th>1</th>\n",
       "      <td>Ancestor's Chosen</td>\n",
       "      <td>{5}{W}{W}</td>\n",
       "      <td>Creature — Human Cleric</td>\n",
       "      <td>First strike (This creature deals combat damag...</td>\n",
       "      <td>4</td>\n",
       "      <td>4</td>\n",
       "      <td>\"The will of all, by my hand done.\"</td>\n",
       "      <td>Ancestor's Chosen [SEP] {5}{W}{W} [SEP] Creatu...</td>\n",
       "    </tr>\n",
       "    <tr>\n",
       "      <th>2</th>\n",
       "      <td>Angel of Mercy</td>\n",
       "      <td>{4}{W}</td>\n",
       "      <td>Creature — Angel</td>\n",
       "      <td>Flying\\nWhen Angel of Mercy enters, you gain 3...</td>\n",
       "      <td>3</td>\n",
       "      <td>3</td>\n",
       "      <td>Every tear shed is a drop of immortality.</td>\n",
       "      <td>Angel of Mercy [SEP] {4}{W} [SEP] Creature — A...</td>\n",
       "    </tr>\n",
       "    <tr>\n",
       "      <th>3</th>\n",
       "      <td>Angel of Mercy</td>\n",
       "      <td>{4}{W}</td>\n",
       "      <td>Creature — Angel</td>\n",
       "      <td>Flying\\nWhen Angel of Mercy enters, you gain 3...</td>\n",
       "      <td>3</td>\n",
       "      <td>3</td>\n",
       "      <td>Every tear shed is a drop of immortality.</td>\n",
       "      <td>Angel of Mercy [SEP] {4}{W} [SEP] Creature — A...</td>\n",
       "    </tr>\n",
       "    <tr>\n",
       "      <th>4</th>\n",
       "      <td>Angelic Blessing</td>\n",
       "      <td>{2}{W}</td>\n",
       "      <td>Sorcery</td>\n",
       "      <td>Target creature gets +3/+3 and gains flying un...</td>\n",
       "      <td>-</td>\n",
       "      <td>-</td>\n",
       "      <td>Only the warrior who can admit mortal weakness...</td>\n",
       "      <td>Angelic Blessing [SEP] {2}{W} [SEP] Sorcery [S...</td>\n",
       "    </tr>\n",
       "  </tbody>\n",
       "</table>\n",
       "</div>"
      ],
      "text/plain": [
       "                name   manaCost                     type  \\\n",
       "0  Ancestor's Chosen  {5}{W}{W}  Creature — Human Cleric   \n",
       "1  Ancestor's Chosen  {5}{W}{W}  Creature — Human Cleric   \n",
       "2     Angel of Mercy     {4}{W}         Creature — Angel   \n",
       "3     Angel of Mercy     {4}{W}         Creature — Angel   \n",
       "4   Angelic Blessing     {2}{W}                  Sorcery   \n",
       "\n",
       "                                                text power toughness  \\\n",
       "0  First strike (This creature deals combat damag...     4         4   \n",
       "1  First strike (This creature deals combat damag...     4         4   \n",
       "2  Flying\\nWhen Angel of Mercy enters, you gain 3...     3         3   \n",
       "3  Flying\\nWhen Angel of Mercy enters, you gain 3...     3         3   \n",
       "4  Target creature gets +3/+3 and gains flying un...     -         -   \n",
       "\n",
       "                                          flavorText  \\\n",
       "0                                                ---   \n",
       "1                \"The will of all, by my hand done.\"   \n",
       "2          Every tear shed is a drop of immortality.   \n",
       "3          Every tear shed is a drop of immortality.   \n",
       "4  Only the warrior who can admit mortal weakness...   \n",
       "\n",
       "                                                info  \n",
       "0  Ancestor's Chosen [SEP] {5}{W}{W} [SEP] Creatu...  \n",
       "1  Ancestor's Chosen [SEP] {5}{W}{W} [SEP] Creatu...  \n",
       "2  Angel of Mercy [SEP] {4}{W} [SEP] Creature — A...  \n",
       "3  Angel of Mercy [SEP] {4}{W} [SEP] Creature — A...  \n",
       "4  Angelic Blessing [SEP] {2}{W} [SEP] Sorcery [S...  "
      ]
     },
     "execution_count": 14,
     "metadata": {},
     "output_type": "execute_result"
    }
   ],
   "source": [
    "# Define a special token for separation\n",
    "separator_token = \"[SEP]\"\n",
    "endoftext_token = \"<|endoftext|>\"\n",
    "\n",
    "# Add the special token to the tokenizer\n",
    "\n",
    "# Connect the name and text fields with the special token\n",
    "\n",
    "cards_info['info'] = cards_info.apply(lambda row: f\"{row['name']} {separator_token} {row['manaCost']} {separator_token} {row['type']} {separator_token} {row['text']} {separator_token} {row['flavorText']} {separator_token} {row['power']}/{row['toughness']} {endoftext_token}\", axis=1)\n",
    "\n",
    "\n",
    "# Display the updated DataFrame\n",
    "cards_info.head()"
   ]
  },
  {
   "cell_type": "code",
   "execution_count": 15,
   "metadata": {},
   "outputs": [
    {
     "data": {
      "text/plain": [
       "272"
      ]
     },
     "execution_count": 15,
     "metadata": {},
     "output_type": "execute_result"
    }
   ],
   "source": [
    "len(cards_info['info'][0])"
   ]
  },
  {
   "cell_type": "code",
   "execution_count": 16,
   "metadata": {},
   "outputs": [],
   "source": [
    "# drop all rows that have name_text > 512\n",
    "cards_info = cards_info[cards_info['info'].apply(len) <= 512]"
   ]
  },
  {
   "cell_type": "code",
   "execution_count": 17,
   "metadata": {},
   "outputs": [],
   "source": [
    "from datasets import Dataset\n",
    "dataset = Dataset.from_pandas(cards_info[['info']])"
   ]
  },
  {
   "cell_type": "code",
   "execution_count": 18,
   "metadata": {},
   "outputs": [
    {
     "data": {
      "application/vnd.jupyter.widget-view+json": {
       "model_id": "5fcf637903c64050a201e2a4e3489a6a",
       "version_major": 2,
       "version_minor": 0
      },
      "text/plain": [
       "Map:   0%|          | 0/2486 [00:00<?, ? examples/s]"
      ]
     },
     "metadata": {},
     "output_type": "display_data"
    }
   ],
   "source": [
    "from transformers import (\n",
    "    AutoTokenizer,\n",
    ")\n",
    "MODEL_NAME = 'openai-community/gpt2'\n",
    "tokenizer = AutoTokenizer.from_pretrained(MODEL_NAME)\n",
    "if tokenizer.pad_token is None:\n",
    "    tokenizer.pad_token = tokenizer.eos_token\n",
    "\n",
    "\n",
    "\n",
    "def tokenize_function(examples):\n",
    "    outputs = tokenizer(\n",
    "        examples[\"info\"], truncation=True, padding=\"max_length\", max_length=512\n",
    "    )\n",
    "    outputs[\"labels\"] = outputs[\"input_ids\"].copy()  # Set labels for loss calculation\n",
    "    return outputs\n",
    "\n",
    "tokenized_datasets = dataset.map(tokenize_function, batched=True)"
   ]
  },
  {
   "cell_type": "code",
   "execution_count": null,
   "metadata": {},
   "outputs": [
    {
     "name": "stderr",
     "output_type": "stream",
     "text": [
      "huggingface/tokenizers: The current process just got forked, after parallelism has already been used. Disabling parallelism to avoid deadlocks...\n",
      "To disable this warning, you can either:\n",
      "\t- Avoid using `tokenizers` before the fork if possible\n",
      "\t- Explicitly set the environment variable TOKENIZERS_PARALLELISM=(true | false)\n"
     ]
    }
   ],
   "source": [
    "\n",
    "from transformers import AutoModelForCausalLM, BitsAndBytesConfig\n",
    "\n",
    "MODEL_NAME = 'openai-community/gpt2'\n",
    "\n",
    "quantization_config = BitsAndBytesConfig(load_in_8bit=True)\n",
    "model = AutoModelForCausalLM.from_pretrained(MODEL_NAME)\n",
    "\n",
    "model.resize_token_embeddings(len(tokenizer))\n",
    "\n",
    "model = model.to(\"mps\")"
   ]
  },
  {
   "cell_type": "code",
   "execution_count": 20,
   "metadata": {},
   "outputs": [],
   "source": [
    "from transformers import DataCollatorForLanguageModeling\n",
    "data_collator = DataCollatorForLanguageModeling(\n",
    "    tokenizer=tokenizer,\n",
    "    mlm=False,  # Turn off Masked Language Modeling; use CLM\n",
    ")"
   ]
  },
  {
   "cell_type": "code",
   "execution_count": null,
   "metadata": {},
   "outputs": [],
   "source": [
    "from datasets import DatasetDict\n",
    "\n",
    "# Split the tokenized dataset into train and evaluation sets\n",
    "split_datasets = tokenized_datasets.train_test_split(test_size=0.1)\n",
    "\n",
    "# Access train and eval datasets\n",
    "train_dataset = split_datasets[\"train\"]\n",
    "eval_dataset = split_datasets[\"test\"]\n",
    "\n",
    "# Optional: Convert to a DatasetDict for Hugging Face workflows\n",
    "dataset_dict = DatasetDict({\"train\": train_dataset, \"eval\": eval_dataset})\n"
   ]
  },
  {
   "cell_type": "code",
   "execution_count": 22,
   "metadata": {},
   "outputs": [],
   "source": [
    "# Ensure data collator and dataset are compatible\n",
    "import torch\n",
    "device = 'mps'\n",
    "def custom_data_collator(features):\n",
    "    # Convert tensors to the MPS device, but don't change their dtype\n",
    "    return {\n",
    "        key: torch.tensor([f[key] for f in features], dtype=torch.long if key == \"input_ids\" else torch.float).to(device)\n",
    "        for key in features[0]\n",
    "    }"
   ]
  },
  {
   "cell_type": "code",
   "execution_count": null,
   "metadata": {},
   "outputs": [
    {
     "name": "stderr",
     "output_type": "stream",
     "text": [
      "/var/folders/2s/c36gzps966l7g26p24rbth540000gn/T/ipykernel_943/2620514094.py:18: FutureWarning: `tokenizer` is deprecated and will be removed in version 5.0.0 for `Trainer.__init__`. Use `processing_class` instead.\n",
      "  trainer = Trainer(\n"
     ]
    },
    {
     "data": {
      "application/vnd.jupyter.widget-view+json": {
       "model_id": "02301a9882be46d59cc888b76eb75f7b",
       "version_major": 2,
       "version_minor": 0
      },
      "text/plain": [
       "  0%|          | 0/11200 [00:00<?, ?it/s]"
      ]
     },
     "metadata": {},
     "output_type": "display_data"
    },
    {
     "name": "stdout",
     "output_type": "stream",
     "text": [
      "{'loss': 1.9098, 'grad_norm': 6.738430500030518, 'learning_rate': 4.955357142857143e-05, 'epoch': 0.36}\n",
      "{'loss': 1.5136, 'grad_norm': 6.070378303527832, 'learning_rate': 4.910714285714286e-05, 'epoch': 0.71}\n",
      "{'loss': 1.3249, 'grad_norm': 5.582805633544922, 'learning_rate': 4.866071428571429e-05, 'epoch': 1.07}\n",
      "{'loss': 1.1124, 'grad_norm': 5.896852493286133, 'learning_rate': 4.8214285714285716e-05, 'epoch': 1.43}\n",
      "{'loss': 1.0675, 'grad_norm': 5.8383378982543945, 'learning_rate': 4.7767857142857144e-05, 'epoch': 1.79}\n",
      "{'loss': 0.9457, 'grad_norm': 5.409012317657471, 'learning_rate': 4.732142857142857e-05, 'epoch': 2.14}\n",
      "{'loss': 0.8357, 'grad_norm': 4.424046993255615, 'learning_rate': 4.6875e-05, 'epoch': 2.5}\n",
      "{'loss': 0.7916, 'grad_norm': 5.051490306854248, 'learning_rate': 4.642857142857143e-05, 'epoch': 2.86}\n",
      "{'loss': 0.6871, 'grad_norm': 4.665743827819824, 'learning_rate': 4.598214285714286e-05, 'epoch': 3.21}\n",
      "{'loss': 0.6081, 'grad_norm': 3.9982893466949463, 'learning_rate': 4.5535714285714286e-05, 'epoch': 3.57}\n",
      "{'loss': 0.5907, 'grad_norm': 4.090710639953613, 'learning_rate': 4.5089285714285714e-05, 'epoch': 3.93}\n",
      "{'loss': 0.508, 'grad_norm': 3.813248634338379, 'learning_rate': 4.464285714285715e-05, 'epoch': 4.29}\n",
      "{'loss': 0.4833, 'grad_norm': 3.7810137271881104, 'learning_rate': 4.419642857142857e-05, 'epoch': 4.64}\n",
      "{'loss': 0.4561, 'grad_norm': 5.044162273406982, 'learning_rate': 4.375e-05, 'epoch': 5.0}\n",
      "{'loss': 0.3772, 'grad_norm': 2.7207372188568115, 'learning_rate': 4.3303571428571435e-05, 'epoch': 5.36}\n",
      "{'loss': 0.3749, 'grad_norm': 3.5756218433380127, 'learning_rate': 4.2857142857142856e-05, 'epoch': 5.71}\n",
      "{'loss': 0.3524, 'grad_norm': 2.672377586364746, 'learning_rate': 4.2410714285714285e-05, 'epoch': 6.07}\n",
      "{'loss': 0.3093, 'grad_norm': 2.5113446712493896, 'learning_rate': 4.196428571428572e-05, 'epoch': 6.43}\n",
      "{'loss': 0.2959, 'grad_norm': 3.2324178218841553, 'learning_rate': 4.151785714285715e-05, 'epoch': 6.79}\n",
      "{'loss': 0.259, 'grad_norm': 2.5745677947998047, 'learning_rate': 4.107142857142857e-05, 'epoch': 7.14}\n",
      "{'loss': 0.2572, 'grad_norm': 3.165252923965454, 'learning_rate': 4.0625000000000005e-05, 'epoch': 7.5}\n",
      "{'loss': 0.2268, 'grad_norm': 1.8606756925582886, 'learning_rate': 4.017857142857143e-05, 'epoch': 7.86}\n",
      "{'loss': 0.2242, 'grad_norm': 2.6469438076019287, 'learning_rate': 3.9732142857142855e-05, 'epoch': 8.21}\n",
      "{'loss': 0.1962, 'grad_norm': 2.0903377532958984, 'learning_rate': 3.928571428571429e-05, 'epoch': 8.57}\n",
      "{'loss': 0.1966, 'grad_norm': 2.013965368270874, 'learning_rate': 3.883928571428572e-05, 'epoch': 8.93}\n",
      "{'loss': 0.1762, 'grad_norm': 1.725866436958313, 'learning_rate': 3.839285714285715e-05, 'epoch': 9.29}\n",
      "{'loss': 0.1711, 'grad_norm': 1.830993890762329, 'learning_rate': 3.794642857142857e-05, 'epoch': 9.64}\n",
      "{'loss': 0.1622, 'grad_norm': 2.177607536315918, 'learning_rate': 3.7500000000000003e-05, 'epoch': 10.0}\n",
      "{'loss': 0.1406, 'grad_norm': 1.4618979692459106, 'learning_rate': 3.705357142857143e-05, 'epoch': 10.36}\n",
      "{'loss': 0.1435, 'grad_norm': 1.8272786140441895, 'learning_rate': 3.6607142857142853e-05, 'epoch': 10.71}\n",
      "{'loss': 0.1399, 'grad_norm': 1.121679425239563, 'learning_rate': 3.616071428571429e-05, 'epoch': 11.07}\n",
      "{'loss': 0.1202, 'grad_norm': 1.3967763185501099, 'learning_rate': 3.571428571428572e-05, 'epoch': 11.43}\n",
      "{'loss': 0.1298, 'grad_norm': 4.86799955368042, 'learning_rate': 3.5267857142857145e-05, 'epoch': 11.79}\n",
      "{'loss': 0.1154, 'grad_norm': 1.7864253520965576, 'learning_rate': 3.4821428571428574e-05, 'epoch': 12.14}\n",
      "{'loss': 0.1072, 'grad_norm': 1.3280959129333496, 'learning_rate': 3.4375e-05, 'epoch': 12.5}\n",
      "{'loss': 0.1158, 'grad_norm': 1.2337456941604614, 'learning_rate': 3.392857142857143e-05, 'epoch': 12.86}\n",
      "{'loss': 0.1082, 'grad_norm': 1.6352976560592651, 'learning_rate': 3.348214285714286e-05, 'epoch': 13.21}\n",
      "{'loss': 0.1016, 'grad_norm': 1.682900071144104, 'learning_rate': 3.303571428571429e-05, 'epoch': 13.57}\n",
      "{'loss': 0.1013, 'grad_norm': 1.7385510206222534, 'learning_rate': 3.2589285714285716e-05, 'epoch': 13.93}\n",
      "{'loss': 0.0937, 'grad_norm': 1.7289122343063354, 'learning_rate': 3.2142857142857144e-05, 'epoch': 14.29}\n",
      "{'loss': 0.0931, 'grad_norm': 1.5951584577560425, 'learning_rate': 3.169642857142857e-05, 'epoch': 14.64}\n",
      "{'loss': 0.0942, 'grad_norm': 2.088881731033325, 'learning_rate': 3.125e-05, 'epoch': 15.0}\n",
      "{'loss': 0.0846, 'grad_norm': 1.2808194160461426, 'learning_rate': 3.080357142857143e-05, 'epoch': 15.36}\n",
      "{'loss': 0.0821, 'grad_norm': 1.2645630836486816, 'learning_rate': 3.0357142857142857e-05, 'epoch': 15.71}\n",
      "{'loss': 0.0862, 'grad_norm': 1.0983233451843262, 'learning_rate': 2.9910714285714286e-05, 'epoch': 16.07}\n",
      "{'loss': 0.0781, 'grad_norm': 1.4821797609329224, 'learning_rate': 2.9464285714285718e-05, 'epoch': 16.43}\n",
      "{'loss': 0.0785, 'grad_norm': 1.2068703174591064, 'learning_rate': 2.9017857142857146e-05, 'epoch': 16.79}\n",
      "{'loss': 0.0793, 'grad_norm': 1.7653979063034058, 'learning_rate': 2.857142857142857e-05, 'epoch': 17.14}\n",
      "{'loss': 0.0709, 'grad_norm': 1.7614046335220337, 'learning_rate': 2.8125000000000003e-05, 'epoch': 17.5}\n",
      "{'loss': 0.0767, 'grad_norm': 1.0764055252075195, 'learning_rate': 2.767857142857143e-05, 'epoch': 17.86}\n",
      "{'loss': 0.0706, 'grad_norm': 0.9028440117835999, 'learning_rate': 2.7232142857142856e-05, 'epoch': 18.21}\n",
      "{'loss': 0.0707, 'grad_norm': 1.2546496391296387, 'learning_rate': 2.6785714285714288e-05, 'epoch': 18.57}\n",
      "{'loss': 0.0715, 'grad_norm': 1.3035866022109985, 'learning_rate': 2.6339285714285716e-05, 'epoch': 18.93}\n",
      "{'loss': 0.0745, 'grad_norm': 1.0958598852157593, 'learning_rate': 2.5892857142857148e-05, 'epoch': 19.29}\n",
      "{'loss': 0.0691, 'grad_norm': 1.1877909898757935, 'learning_rate': 2.544642857142857e-05, 'epoch': 19.64}\n",
      "{'loss': 0.0661, 'grad_norm': 1.3045748472213745, 'learning_rate': 2.5e-05, 'epoch': 20.0}\n",
      "{'loss': 0.0632, 'grad_norm': 1.1488052606582642, 'learning_rate': 2.455357142857143e-05, 'epoch': 20.36}\n",
      "{'loss': 0.0646, 'grad_norm': 1.2768738269805908, 'learning_rate': 2.4107142857142858e-05, 'epoch': 20.71}\n",
      "{'loss': 0.0628, 'grad_norm': 0.7864786386489868, 'learning_rate': 2.3660714285714286e-05, 'epoch': 21.07}\n",
      "{'loss': 0.0614, 'grad_norm': 1.1169198751449585, 'learning_rate': 2.3214285714285715e-05, 'epoch': 21.43}\n",
      "{'loss': 0.0641, 'grad_norm': 0.7385271787643433, 'learning_rate': 2.2767857142857143e-05, 'epoch': 21.79}\n",
      "{'loss': 0.0608, 'grad_norm': 0.9165672659873962, 'learning_rate': 2.2321428571428575e-05, 'epoch': 22.14}\n",
      "{'loss': 0.0584, 'grad_norm': 1.470682144165039, 'learning_rate': 2.1875e-05, 'epoch': 22.5}\n",
      "{'loss': 0.0617, 'grad_norm': 1.2586854696273804, 'learning_rate': 2.1428571428571428e-05, 'epoch': 22.86}\n",
      "{'loss': 0.0543, 'grad_norm': 0.9550886750221252, 'learning_rate': 2.098214285714286e-05, 'epoch': 23.21}\n",
      "{'loss': 0.0602, 'grad_norm': 1.3432917594909668, 'learning_rate': 2.0535714285714285e-05, 'epoch': 23.57}\n",
      "{'loss': 0.0591, 'grad_norm': 1.038866400718689, 'learning_rate': 2.0089285714285717e-05, 'epoch': 23.93}\n",
      "{'loss': 0.0544, 'grad_norm': 1.0492808818817139, 'learning_rate': 1.9642857142857145e-05, 'epoch': 24.29}\n",
      "{'loss': 0.0538, 'grad_norm': 1.4437365531921387, 'learning_rate': 1.9196428571428573e-05, 'epoch': 24.64}\n",
      "{'loss': 0.0565, 'grad_norm': 1.2328898906707764, 'learning_rate': 1.8750000000000002e-05, 'epoch': 25.0}\n",
      "{'loss': 0.0541, 'grad_norm': 0.9128846526145935, 'learning_rate': 1.8303571428571427e-05, 'epoch': 25.36}\n",
      "{'loss': 0.0555, 'grad_norm': 0.9469280242919922, 'learning_rate': 1.785714285714286e-05, 'epoch': 25.71}\n",
      "{'loss': 0.0534, 'grad_norm': 1.073598027229309, 'learning_rate': 1.7410714285714287e-05, 'epoch': 26.07}\n",
      "{'loss': 0.0505, 'grad_norm': 0.8676284551620483, 'learning_rate': 1.6964285714285715e-05, 'epoch': 26.43}\n",
      "{'loss': 0.0538, 'grad_norm': 1.3040310144424438, 'learning_rate': 1.6517857142857144e-05, 'epoch': 26.79}\n",
      "{'loss': 0.0523, 'grad_norm': 0.6682692170143127, 'learning_rate': 1.6071428571428572e-05, 'epoch': 27.14}\n",
      "{'loss': 0.0496, 'grad_norm': 0.8212956190109253, 'learning_rate': 1.5625e-05, 'epoch': 27.5}\n",
      "{'loss': 0.0506, 'grad_norm': 0.890919029712677, 'learning_rate': 1.5178571428571429e-05, 'epoch': 27.86}\n",
      "{'loss': 0.0517, 'grad_norm': 0.9639723896980286, 'learning_rate': 1.4732142857142859e-05, 'epoch': 28.21}\n",
      "{'loss': 0.0508, 'grad_norm': 0.8560999035835266, 'learning_rate': 1.4285714285714285e-05, 'epoch': 28.57}\n",
      "{'loss': 0.051, 'grad_norm': 1.1571885347366333, 'learning_rate': 1.3839285714285715e-05, 'epoch': 28.93}\n",
      "{'loss': 0.0489, 'grad_norm': 1.0543088912963867, 'learning_rate': 1.3392857142857144e-05, 'epoch': 29.29}\n",
      "{'loss': 0.0513, 'grad_norm': 0.7964662909507751, 'learning_rate': 1.2946428571428574e-05, 'epoch': 29.64}\n",
      "{'loss': 0.0504, 'grad_norm': 1.070797085762024, 'learning_rate': 1.25e-05, 'epoch': 30.0}\n",
      "{'loss': 0.0466, 'grad_norm': 0.999470055103302, 'learning_rate': 1.2053571428571429e-05, 'epoch': 30.36}\n",
      "{'loss': 0.0497, 'grad_norm': 0.7910701632499695, 'learning_rate': 1.1607142857142857e-05, 'epoch': 30.71}\n",
      "{'loss': 0.0473, 'grad_norm': 0.9752572178840637, 'learning_rate': 1.1160714285714287e-05, 'epoch': 31.07}\n",
      "{'loss': 0.0456, 'grad_norm': 0.7767974138259888, 'learning_rate': 1.0714285714285714e-05, 'epoch': 31.43}\n",
      "{'loss': 0.0478, 'grad_norm': 0.8098543882369995, 'learning_rate': 1.0267857142857142e-05, 'epoch': 31.79}\n",
      "{'loss': 0.046, 'grad_norm': 0.7932021617889404, 'learning_rate': 9.821428571428573e-06, 'epoch': 32.14}\n",
      "{'loss': 0.0454, 'grad_norm': 0.7287391424179077, 'learning_rate': 9.375000000000001e-06, 'epoch': 32.5}\n",
      "{'loss': 0.0466, 'grad_norm': 1.2734440565109253, 'learning_rate': 8.92857142857143e-06, 'epoch': 32.86}\n",
      "{'loss': 0.0477, 'grad_norm': 0.6572685241699219, 'learning_rate': 8.482142857142858e-06, 'epoch': 33.21}\n",
      "{'loss': 0.0456, 'grad_norm': 0.7598509788513184, 'learning_rate': 8.035714285714286e-06, 'epoch': 33.57}\n",
      "{'loss': 0.0465, 'grad_norm': 1.6394212245941162, 'learning_rate': 7.589285714285714e-06, 'epoch': 33.93}\n",
      "{'loss': 0.0457, 'grad_norm': 1.1332588195800781, 'learning_rate': 7.142857142857143e-06, 'epoch': 34.29}\n",
      "{'loss': 0.0452, 'grad_norm': 0.8729466795921326, 'learning_rate': 6.696428571428572e-06, 'epoch': 34.64}\n",
      "{'loss': 0.046, 'grad_norm': 1.7075634002685547, 'learning_rate': 6.25e-06, 'epoch': 35.0}\n",
      "{'loss': 0.0438, 'grad_norm': 0.6679829955101013, 'learning_rate': 5.803571428571429e-06, 'epoch': 35.36}\n",
      "{'loss': 0.0455, 'grad_norm': 0.9737977385520935, 'learning_rate': 5.357142857142857e-06, 'epoch': 35.71}\n",
      "{'loss': 0.0453, 'grad_norm': 1.1306815147399902, 'learning_rate': 4.910714285714286e-06, 'epoch': 36.07}\n",
      "{'loss': 0.0447, 'grad_norm': 0.6542564034461975, 'learning_rate': 4.464285714285715e-06, 'epoch': 36.43}\n",
      "{'loss': 0.0439, 'grad_norm': 1.0097322463989258, 'learning_rate': 4.017857142857143e-06, 'epoch': 36.79}\n",
      "{'loss': 0.045, 'grad_norm': 0.7420769929885864, 'learning_rate': 3.5714285714285714e-06, 'epoch': 37.14}\n",
      "{'loss': 0.0417, 'grad_norm': 0.5533286333084106, 'learning_rate': 3.125e-06, 'epoch': 37.5}\n",
      "{'loss': 0.0446, 'grad_norm': 0.9054160118103027, 'learning_rate': 2.6785714285714285e-06, 'epoch': 37.86}\n",
      "{'loss': 0.0425, 'grad_norm': 0.7726275324821472, 'learning_rate': 2.2321428571428573e-06, 'epoch': 38.21}\n",
      "{'loss': 0.0428, 'grad_norm': 1.358478307723999, 'learning_rate': 1.7857142857142857e-06, 'epoch': 38.57}\n",
      "{'loss': 0.0449, 'grad_norm': 0.6907947063446045, 'learning_rate': 1.3392857142857143e-06, 'epoch': 38.93}\n",
      "{'loss': 0.0431, 'grad_norm': 0.9331429600715637, 'learning_rate': 8.928571428571428e-07, 'epoch': 39.29}\n",
      "{'loss': 0.0455, 'grad_norm': 0.8846227526664734, 'learning_rate': 4.464285714285714e-07, 'epoch': 39.64}\n",
      "{'loss': 0.0435, 'grad_norm': 1.4622246026992798, 'learning_rate': 0.0, 'epoch': 40.0}\n",
      "{'train_runtime': 9686.1901, 'train_samples_per_second': 9.238, 'train_steps_per_second': 1.156, 'train_loss': 0.1955780295389039, 'epoch': 40.0}\n"
     ]
    },
    {
     "data": {
      "text/plain": [
       "TrainOutput(global_step=11200, training_loss=0.1955780295389039, metrics={'train_runtime': 9686.1901, 'train_samples_per_second': 9.238, 'train_steps_per_second': 1.156, 'total_flos': 2.338041102336e+16, 'train_loss': 0.1955780295389039, 'epoch': 40.0})"
      ]
     },
     "execution_count": 24,
     "metadata": {},
     "output_type": "execute_result"
    }
   ],
   "source": [
    "from transformers import TrainingArguments\n",
    "\n",
    "training_args = TrainingArguments(\n",
    "    output_dir=\"./results\",\n",
    "    overwrite_output_dir=True,\n",
    "    num_train_epochs=40,\n",
    "    per_device_train_batch_size=8,\n",
    "    #per_device_eval_batch_size=4,\n",
    "    save_steps=100,\n",
    "    save_total_limit=4,\n",
    "    logging_dir=\"./logs\",\n",
    "    logging_steps=100,  # Log metrics every 10 steps\n",
    "    learning_rate=5e-5,\n",
    ")\n",
    "\n",
    "trainer = Trainer(\n",
    "    model=model,\n",
    "    args=training_args,\n",
    "    train_dataset=dataset_dict['train'],\n",
    "    eval_dataset=dataset_dict['eval'],\n",
    "    tokenizer=tokenizer,\n",
    "    data_collator=data_collator,\n",
    ")\n",
    "\n",
    "# Fine-Tune the Model\n",
    "trainer.train()"
   ]
  },
  {
   "cell_type": "code",
   "execution_count": 60,
   "metadata": {},
   "outputs": [],
   "source": [
    "# Function to truncate a string at the first occurrence of the pattern\n",
    "def truncate_at_pattern(dic, pattern):\n",
    "    text = dic['generated_text']\n",
    "    match = re.search(pattern, text)\n",
    "    if match:\n",
    "        # Get the end position of the match and truncate the string\n",
    "        return text[:match.end()]\n",
    "    return text  # Return the original text if no match is found\n"
   ]
  },
  {
   "cell_type": "code",
   "execution_count": null,
   "metadata": {},
   "outputs": [
    {
     "name": "stderr",
     "output_type": "stream",
     "text": [
      "Hardware accelerator e.g. GPU is available in the environment, but no `device` argument is passed to the `Pipeline` object. Model will be on CPU.\n"
     ]
    },
    {
     "name": "stdout",
     "output_type": "stream",
     "text": [
      "Voracious Demon [SEP] {4}{B}{B} [SEP] Creature — Phyrexian Demon [SEP] At the beginning of your upkeep, Voracious Demon deals 5 damage to target creature. [SEP] --- [SEP] 6/6\n",
      "Voracious Demon [SEP] {4}{B}{B} [SEP] Creature — Phyrexian Vampire Noble [SEP] Flying (This creature can't be blocked except by creatures with flying or reach.)\\nWhenever Voracious Demon deals combat damage to a player, that player exiles the top four cards of their library. If two or more of those cards have the same name, repeat this process. [SEP] --- [SEP] 4/4\n",
      "Voracious Demon [SEP] {2}{B}{B} [SEP] Creature — Phyrexian Demon [SEP] When Voracious Demon enters, target opponent sacrifices a creature of their choice. [SEP] He's hungry for the taste of death. And furious for the violence it elicits. [SEP] 2/2\n",
      "Voracious Demon [SEP] {4}{B}{B} [SEP] Creature — Phyrexian Demon [SEP] At the beginning of your upkeep, you may Virous Demon deal 3 damage to target creature. [SEP] --- [SEP] 3/3\n",
      "Voracious Demon [SEP] {2}{B}{B} [SEP] Creature — Phyrexian Demon [SEP] When Voracious Demon enters, you lose 4 life. [SEP] A picture is worth a thousand swords. [SEP] 4/4\n"
     ]
    }
   ],
   "source": [
    "from transformers import pipeline\n",
    "from transformers import AutoModelForCausalLM\n",
    "checkpoint2 = \"./results/checkpoint-11200\"\n",
    "model1 = AutoModelForCausalLM.from_pretrained(checkpoint2)\n",
    "generator = pipeline('text-generation', model=model1, tokenizer=tokenizer)\n",
    "pattern = r\"\\[SEP\\] [-*\\d]/[-*\\d]\"\n",
    "outputs = generator(\"Voracious Demon\", max_length=512, num_return_sequences=5, pad_token_id=tokenizer.eos_token_id)\n",
    "#print(outputs)\n",
    "# # Print the outputs\n",
    "# # Apply truncation\n",
    "truncated_strings = [truncate_at_pattern(s, pattern) for s in outputs]\n",
    "\n",
    "# Print the results\n",
    "for i, result in enumerate(truncated_strings):\n",
    "    print(result)\n"
   ]
  },
  {
   "cell_type": "markdown",
   "metadata": {},
   "source": []
  }
 ],
 "metadata": {
  "kernelspec": {
   "display_name": ".venv",
   "language": "python",
   "name": "python3"
  },
  "language_info": {
   "codemirror_mode": {
    "name": "ipython",
    "version": 3
   },
   "file_extension": ".py",
   "mimetype": "text/x-python",
   "name": "python",
   "nbconvert_exporter": "python",
   "pygments_lexer": "ipython3",
   "version": "3.12.7"
  }
 },
 "nbformat": 4,
 "nbformat_minor": 2
}
